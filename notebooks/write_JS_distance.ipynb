{
 "metadata": {
  "name": ""
 },
 "nbformat": 3,
 "nbformat_minor": 0,
 "worksheets": [
  {
   "cells": [
    {
     "cell_type": "markdown",
     "metadata": {},
     "source": [
      "Write the JS distance to a file. Each line will have the following fields:\n",
      "\n",
      "* name: SNP name\n",
      "* distance: JS distance"
     ]
    },
    {
     "cell_type": "code",
     "collapsed": false,
     "input": [
      "import sys, os, time\n",
      "from collections import deque, Counter\n",
      "import argparse\n",
      "import numpy as np\n",
      "import scipy as sp\n",
      "import imp"
     ],
     "language": "python",
     "metadata": {},
     "outputs": []
    },
    {
     "cell_type": "code",
     "collapsed": false,
     "input": [
      "parser = argparse.ArgumentParser(description=\"write JS distance\")\n",
      "parser.add_argument(\"infile\", help=\"input genotype table file\")\n",
      "parser.add_argument(\"outfile\", help=\"JS distance\")\n",
      "parser.add_argument(\"-p\", help=\"threshold p-value\", default=0.9, type=float)\n",
      "args = parser.parse_args()\n",
      "\n",
      "if not os.path.isfile(args.infile):\n",
      "    sys.exit(\"The follwoing file does not exist: {}\".format(args.infile))\n"
     ],
     "language": "python",
     "metadata": {},
     "outputs": []
    },
    {
     "cell_type": "markdown",
     "metadata": {},
     "source": [
      "Utility functions."
     ]
    },
    {
     "cell_type": "code",
     "collapsed": false,
     "input": [
      "SCRIPT_DIR = os.path.dirname(os.path.realpath(__file__))\n",
      "\n",
      "def import_anywhere(module_name, paths):\n",
      "    \"\"\"import methods from any folder\"\"\"\n",
      "    try:\n",
      "        f, filename, desc = imp.find_module(module_name, paths)\n",
      "        return imp.load_module(module_name, f, filename, desc)\n",
      "    finally:\n",
      "        # Since we may exit via an exception, close fp explicitly.\n",
      "        if f:\n",
      "            f.close()"
     ],
     "language": "python",
     "metadata": {},
     "outputs": []
    },
    {
     "cell_type": "markdown",
     "metadata": {},
     "source": [
      "Import some functions."
     ]
    },
    {
     "cell_type": "code",
     "collapsed": false,
     "input": [
      "get_distance_to_significance = import_anywhere('get_distance_to_significance', [SCRIPT_DIR])\n",
      "from get_distance_to_significance import greedy_distance_to_significance_flip\n",
      "get_distance_to_significance.DEBUG = False"
     ],
     "language": "python",
     "metadata": {},
     "outputs": []
    },
    {
     "cell_type": "markdown",
     "metadata": {},
     "source": [
      "Set p-value."
     ]
    },
    {
     "cell_type": "code",
     "collapsed": false,
     "input": [
      "pval = args.p"
     ],
     "language": "python",
     "metadata": {},
     "outputs": []
    },
    {
     "cell_type": "markdown",
     "metadata": {},
     "source": [
      "Write JS distance."
     ]
    },
    {
     "cell_type": "code",
     "collapsed": false,
     "input": [
      "utility_functions = import_anywhere('utility_functions', [SCRIPT_DIR])\n",
      "from utility_functions import check_table_valid"
     ],
     "language": "python",
     "metadata": {},
     "outputs": []
    },
    {
     "cell_type": "code",
     "collapsed": false,
     "input": [
      "start_time = time.time()\n",
      "\n",
      "with open(args.infile, 'r') as infile, open(args.outfile, 'w') as outfile:\n",
      "    outfile.write(\"{}\\t{}\\n\".format(*['name', 'distance']))\n",
      "    headers = infile.readline().split()\n",
      "    for line in infile:\n",
      "        dd = dict(zip(headers, line.split()))\n",
      "        input_table = np.array([[int(dd['case_0']), \n",
      "                                 int(dd['case_1']),\n",
      "                                 int(dd['case_2'])], \n",
      "                                [int(dd['ctrl_0']), \n",
      "                                 int(dd['ctrl_1']),\n",
      "                                 int(dd['ctrl_2'])],])\n",
      "        if not check_table_valid(input_table):\n",
      "            continue\n",
      "        print dd['name']\n",
      "        dist = greedy_distance_to_significance_flip(input_table, pval)\n",
      "        outfile.write('{}\\t{}\\n'.format(*[dd['name'], dist]))\n",
      "\n",
      "print('Time spent: {} minutes.\\n'.format(round((time.time() - start_time) / 60, 2)))\n"
     ],
     "language": "python",
     "metadata": {},
     "outputs": []
    }
   ],
   "metadata": {}
  }
 ]
}