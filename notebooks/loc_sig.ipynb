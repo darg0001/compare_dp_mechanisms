{
 "metadata": {
  "name": ""
 },
 "nbformat": 3,
 "nbformat_minor": 0,
 "worksheets": [
  {
   "cells": [
    {
     "cell_type": "markdown",
     "metadata": {},
     "source": [
      "This function implements Johnson & Shmatikov (2013)'s LocSig function."
     ]
    },
    {
     "cell_type": "code",
     "collapsed": false,
     "input": [
      "import numpy as np"
     ],
     "language": "python",
     "metadata": {},
     "outputs": []
    },
    {
     "cell_type": "code",
     "collapsed": false,
     "input": [
      "def loc_sig(epsilon, kk, sensitivity, all_scores):\n",
      "    \"\"\"Return the index of the top kk SNPs.\n",
      "    \n",
      "    Algorithm:\n",
      "    (1) Weight the sampling probability of each indexed element by e^score. \n",
      "    (2) Sample an index using the sampling probabilities.\n",
      "    (3) Store the index and set its sampling probability to be 0.\n",
      "    (4) Repeat (1) to (3) until kk unique indices have been obtained.\n",
      "\n",
      "    Args:\n",
      "        epsilon: Privacy budget.\n",
      "        kk: The top k SNPs to output. \n",
      "        sensitivity: sensitivity of the scoring function.\n",
      "        all_scores: The scores to significance (+) or insignificance (-). \n",
      "\n",
      "    Returns:\n",
      "        A list indices of the top kk SNPs.\n",
      "    \"\"\"\n",
      "    def get_sampling_weights(exponent_vec):\n",
      "        max_exponent = np.max(exponent_vec)\n",
      "        sampling_weights = np.array([0 if ss is None else np.exp(ss - max_exponent + 50) \n",
      "                                     for ss in exponent_vec])\n",
      "        sampling_weights = sampling_weights / np.sum(sampling_weights)\n",
      "        return sampling_weights\n",
      "    \n",
      "    ## get the exponents used to calculate the sampling weights\n",
      "    exponent_vec = [None if ss is None else 1. * ss * (1. * epsilon / kk) / (2 * sensitivity)\n",
      "                    for ss in all_scores]\n",
      "    sampling_weights = get_sampling_weights(exponent_vec)\n",
      "    loc_vec = []\n",
      "    for ii in xrange(kk):\n",
      "        loc = np.random.choice(np.arange(len(sampling_weights)), \n",
      "                               p=sampling_weights)\n",
      "        loc_vec.append(loc)\n",
      "        exponent_vec[loc] = None\n",
      "        sampling_weights = get_sampling_weights(exponent_vec)\n",
      "    return loc_vec"
     ],
     "language": "python",
     "metadata": {},
     "outputs": []
    }
   ],
   "metadata": {}
  }
 ]
}