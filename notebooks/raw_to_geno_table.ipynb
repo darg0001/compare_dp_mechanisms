{
 "metadata": {
  "name": ""
 },
 "nbformat": 3,
 "nbformat_minor": 0,
 "worksheets": [
  {
   "cells": [
    {
     "cell_type": "markdown",
     "metadata": {},
     "source": [
      "This script will convert raw genotype data to genotype tables."
     ]
    },
    {
     "cell_type": "code",
     "collapsed": false,
     "input": [
      "import sys, os, time\n",
      "import argparse\n",
      "from collections import Counter\n",
      "import imp\n",
      "import numpy as np"
     ],
     "language": "python",
     "metadata": {},
     "outputs": []
    },
    {
     "cell_type": "code",
     "collapsed": false,
     "input": [
      "SCRIPT_DIR = os.path.dirname(os.path.realpath(__file__))\n",
      "\n",
      "def import_anywhere(module_name, paths):\n",
      "    \"\"\"import methods from any folder\"\"\"\n",
      "    try:\n",
      "        f, filename, desc = imp.find_module(module_name, paths)\n",
      "        return imp.load_module(module_name, f, filename, desc)\n",
      "    finally:\n",
      "        # Since we may exit via an exception, close fp explicitly.\n",
      "        if f:\n",
      "            f.close()"
     ],
     "language": "python",
     "metadata": {},
     "outputs": []
    },
    {
     "cell_type": "markdown",
     "metadata": {},
     "source": [
      "Parse arguments."
     ]
    },
    {
     "cell_type": "code",
     "collapsed": false,
     "input": [
      "parser = argparse.ArgumentParser()\n",
      "parser.add_argument(\"case_file\", help=\"raw case genotype data file\")\n",
      "parser.add_argument(\"control_file\", help=\"raw control genotype data file\")\n",
      "parser.add_argument(\"outfile\", help=\"output file\")\n",
      "args = parser.parse_args()"
     ],
     "language": "python",
     "metadata": {},
     "outputs": []
    },
    {
     "cell_type": "markdown",
     "metadata": {},
     "source": [
      "Process the raw data."
     ]
    },
    {
     "cell_type": "code",
     "collapsed": false,
     "input": [
      "utility_functions = import_anywhere('utility_functions', [SCRIPT_DIR])\n",
      "from utility_functions import check_table_valid"
     ],
     "language": "python",
     "metadata": {},
     "outputs": []
    },
    {
     "cell_type": "code",
     "collapsed": false,
     "input": [
      "## read case data\n",
      "case_data = {}\n",
      "with open(args.case_file, 'r') as infile:\n",
      "    for line in infile:\n",
      "        fields = line.split()\n",
      "        snp_name = fields[1]\n",
      "        case_data[snp_name] = Counter(fields[4:])\n",
      "\n",
      "## read control data\n",
      "control_data = {}\n",
      "with open(args.control_file, 'r') as infile:\n",
      "    for line in infile:\n",
      "        fields = line.split()\n",
      "        snp_name = fields[1]\n",
      "        control_data[snp_name] = Counter(fields[4:])\n",
      "\n",
      "## combine case and control data and write as table   \n",
      "with open(args.outfile, 'w') as outfile:\n",
      "    headers = \"name, case_0, case_1, case_2, ctrl_0, ctrl_1, ctrl_2\".split(', ')\n",
      "    line_template = '\\t'.join(['{}'] * len(headers)) + '\\n'\n",
      "    outfile.write(line_template.format(*headers))\n",
      "    for snp_name in case_data.keys():\n",
      "        ## check whether the input table is a 2x3 contingency table with positive margins first\n",
      "        input_table = np.array([[int(case_data[snp_name]['0']), \n",
      "                                 int(case_data[snp_name]['1']), \n",
      "                                 int(case_data[snp_name]['2'])], \n",
      "                                [int(control_data[snp_name]['0'],), \n",
      "                                 int(control_data[snp_name]['1'],),\n",
      "                                 int(control_data[snp_name]['2'],)],])\n",
      "        if not check_table_valid(input_table):\n",
      "            continue\n",
      "        ## the input table is valid. proceed.\n",
      "        outfile.write(line_template.format(*[snp_name,\n",
      "                                             case_data[snp_name]['0'],\n",
      "                                             case_data[snp_name]['1'],\n",
      "                                             case_data[snp_name]['2'],\n",
      "                                             control_data[snp_name]['0'],\n",
      "                                             control_data[snp_name]['1'],\n",
      "                                             control_data[snp_name]['2'],]))"
     ],
     "language": "python",
     "metadata": {},
     "outputs": []
    }
   ],
   "metadata": {}
  }
 ]
}