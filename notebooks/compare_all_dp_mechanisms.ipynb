{
 "metadata": {
  "name": "",
  "signature": "sha256:8fb24d8a54001f4a059526093bc1f6e2d13539550299d0d111e4699628aa0fee"
 },
 "nbformat": 3,
 "nbformat_minor": 0,
 "worksheets": [
  {
   "cells": [
    {
     "cell_type": "markdown",
     "metadata": {},
     "source": [
      "Compare all differentially private mechanisms. The results are at the end of the page."
     ]
    },
    {
     "cell_type": "code",
     "collapsed": false,
     "input": [
      "import sys, os, time\n",
      "import subprocess, shlex\n",
      "import matplotlib.pyplot as plt     # matplotlib - plots\n",
      "from IPython.utils import io"
     ],
     "language": "python",
     "metadata": {},
     "outputs": [],
     "prompt_number": 1
    },
    {
     "cell_type": "code",
     "collapsed": false,
     "input": [
      "class Dummy(dict):\n",
      "    pass"
     ],
     "language": "python",
     "metadata": {},
     "outputs": [],
     "prompt_number": 2
    },
    {
     "cell_type": "code",
     "collapsed": false,
     "input": [
      "CASE_FILE = '../example/case_genotypes.dat'\n",
      "CONTROL_FILE = '../example/anticase_genotypes.dat'\n",
      "SNP_TABLE_FILE = '../table.tmp'\n",
      "JS_DISTANCE_FILE = '../js_distance.tmp'\n",
      "CHISQUARE_FILE = '../chisquare.tmp'"
     ],
     "language": "python",
     "metadata": {},
     "outputs": [],
     "prompt_number": 3
    },
    {
     "cell_type": "markdown",
     "metadata": {},
     "source": [
      "Convert raw files to genotype tables."
     ]
    },
    {
     "cell_type": "code",
     "collapsed": false,
     "input": [
      "subprocess.check_call(\"python raw_to_geno_table.py {case_file} {control_file} {outfile}\".format(case_file=CASE_FILE, control_file=CONTROL_FILE, outfile=SNP_TABLE_FILE), shell=True)"
     ],
     "language": "python",
     "metadata": {},
     "outputs": [
      {
       "metadata": {},
       "output_type": "pyout",
       "prompt_number": 4,
       "text": [
        "0"
       ]
      }
     ],
     "prompt_number": 4
    },
    {
     "cell_type": "markdown",
     "metadata": {},
     "source": [
      "Set common parameters."
     ]
    },
    {
     "cell_type": "code",
     "collapsed": false,
     "input": [
      "PARAMS = Dummy()\n",
      "PARAMS.NN_case = 1000  # number of cases\n",
      "PARAMS.NN_control = 1000  # number of controls\n",
      "PARAMS.MM_vec = np.array([1, 2, 3, 10])\n",
      "# PARAMS.epsilon_vec = np.concatenate((np.arange(1, 20, 5), \n",
      "#                                      np.arange(21, 1522, 100)))\n",
      "PARAMS.epsilon_vec = np.arange(1, 102, 20)\n",
      "PARAMS.NN_perturb = 20\n",
      "# PARAMS.sig_level_vec = np.array([0.1, 0.05, 0.01])\n",
      "PARAMS.sig_level_vec = np.array([0.1, 0.05])"
     ],
     "language": "python",
     "metadata": {},
     "outputs": [],
     "prompt_number": 5
    },
    {
     "cell_type": "code",
     "collapsed": false,
     "input": [
      "perturb_result_dict = {}  # store the perturbation results"
     ],
     "language": "python",
     "metadata": {},
     "outputs": [],
     "prompt_number": 6
    },
    {
     "cell_type": "markdown",
     "metadata": {},
     "source": [
      "## Johnson & Shmatikov method"
     ]
    },
    {
     "cell_type": "markdown",
     "metadata": {},
     "source": [
      "Count the number of SNPs."
     ]
    },
    {
     "cell_type": "code",
     "collapsed": false,
     "input": [
      "snp_num = 0\n",
      "with open(SNP_TABLE_FILE, 'r') as infile:\n",
      "    for line in infile:\n",
      "        snp_num += 1"
     ],
     "language": "python",
     "metadata": {},
     "outputs": [],
     "prompt_number": 7
    },
    {
     "cell_type": "markdown",
     "metadata": {},
     "source": [
      "Do perturbation and collect results."
     ]
    },
    {
     "cell_type": "code",
     "collapsed": false,
     "input": [
      "start_time = time.time()\n",
      "sensitivity = 1\n",
      "\n",
      "perturb_result = {}\n",
      "for sig_level in PARAMS.sig_level_vec:\n",
      "    print(\"sig_level={}\".format(sig_level))\n",
      "    pval = sig_level / snp_num\n",
      "    subprocess.check_call(shlex.split(\"python write_JS_distance.py -p {pval} {infile} {outfile}\".format(infile=SNP_TABLE_FILE, outfile=JS_DISTANCE_FILE, pval=sig_level)))\n",
      "    perturb_result[sig_level] = {}\n",
      "    for MM in PARAMS.MM_vec:\n",
      "        print(\"\\tMM={}\".format(MM))\n",
      "        perturb_result[sig_level][MM] = {}\n",
      "        for epsilon in PARAMS.epsilon_vec:\n",
      "            print(\"\\t\\tepsilon={}\".format(epsilon))\n",
      "            perturbation = []\n",
      "            for ii in xrange(PARAMS.NN_perturb):\n",
      "                proc = subprocess.Popen(shlex.split('python get_JS_results.py {k} {e} {infile}'.format(k=MM, e=epsilon, infile=JS_DISTANCE_FILE)), stdout=subprocess.PIPE)\n",
      "                perturbation.append(proc.communicate()[0].split())\n",
      "            perturb_result[sig_level][MM][epsilon] = perturbation\n",
      "\n",
      "perturb_result_dict['JS'] = perturb_result\n",
      "print('Time spent: {} minutes.\\n'.format(round((time.time() - start_time) / 60, 2)))"
     ],
     "language": "python",
     "metadata": {},
     "outputs": [
      {
       "output_type": "stream",
       "stream": "stdout",
       "text": [
        "sig_level=0.1\n",
        "\tMM=1"
       ]
      },
      {
       "output_type": "stream",
       "stream": "stdout",
       "text": [
        "\n",
        "\t\tepsilon=1\n",
        "\t\tepsilon=21"
       ]
      },
      {
       "output_type": "stream",
       "stream": "stdout",
       "text": [
        "\n",
        "\t\tepsilon=41"
       ]
      },
      {
       "output_type": "stream",
       "stream": "stdout",
       "text": [
        "\n",
        "\t\tepsilon=61"
       ]
      },
      {
       "output_type": "stream",
       "stream": "stdout",
       "text": [
        "\n",
        "\t\tepsilon=81"
       ]
      },
      {
       "output_type": "stream",
       "stream": "stdout",
       "text": [
        "\n",
        "\t\tepsilon=101"
       ]
      },
      {
       "output_type": "stream",
       "stream": "stdout",
       "text": [
        "\n",
        "\tMM=2"
       ]
      },
      {
       "output_type": "stream",
       "stream": "stdout",
       "text": [
        "\n",
        "\t\tepsilon=1\n",
        "\t\tepsilon=21"
       ]
      },
      {
       "output_type": "stream",
       "stream": "stdout",
       "text": [
        "\n",
        "\t\tepsilon=41"
       ]
      },
      {
       "output_type": "stream",
       "stream": "stdout",
       "text": [
        "\n",
        "\t\tepsilon=61"
       ]
      },
      {
       "output_type": "stream",
       "stream": "stdout",
       "text": [
        "\n",
        "\t\tepsilon=81"
       ]
      },
      {
       "output_type": "stream",
       "stream": "stdout",
       "text": [
        "\n",
        "\t\tepsilon=101"
       ]
      },
      {
       "output_type": "stream",
       "stream": "stdout",
       "text": [
        "\n",
        "\tMM=3"
       ]
      },
      {
       "output_type": "stream",
       "stream": "stdout",
       "text": [
        "\n",
        "\t\tepsilon=1\n",
        "\t\tepsilon=21"
       ]
      },
      {
       "output_type": "stream",
       "stream": "stdout",
       "text": [
        "\n",
        "\t\tepsilon=41"
       ]
      },
      {
       "output_type": "stream",
       "stream": "stdout",
       "text": [
        "\n",
        "\t\tepsilon=61"
       ]
      },
      {
       "output_type": "stream",
       "stream": "stdout",
       "text": [
        "\n",
        "\t\tepsilon=81"
       ]
      },
      {
       "output_type": "stream",
       "stream": "stdout",
       "text": [
        "\n",
        "\t\tepsilon=101"
       ]
      },
      {
       "output_type": "stream",
       "stream": "stdout",
       "text": [
        "\n",
        "\tMM=10"
       ]
      },
      {
       "output_type": "stream",
       "stream": "stdout",
       "text": [
        "\n",
        "\t\tepsilon=1\n",
        "\t\tepsilon=21"
       ]
      },
      {
       "output_type": "stream",
       "stream": "stdout",
       "text": [
        "\n",
        "\t\tepsilon=41"
       ]
      },
      {
       "output_type": "stream",
       "stream": "stdout",
       "text": [
        "\n",
        "\t\tepsilon=61"
       ]
      },
      {
       "output_type": "stream",
       "stream": "stdout",
       "text": [
        "\n",
        "\t\tepsilon=81"
       ]
      },
      {
       "output_type": "stream",
       "stream": "stdout",
       "text": [
        "\n",
        "\t\tepsilon=101"
       ]
      },
      {
       "output_type": "stream",
       "stream": "stdout",
       "text": [
        "\n",
        "sig_level=0.05"
       ]
      },
      {
       "output_type": "stream",
       "stream": "stdout",
       "text": [
        "\n",
        "\tMM=1"
       ]
      },
      {
       "output_type": "stream",
       "stream": "stdout",
       "text": [
        "\n",
        "\t\tepsilon=1\n",
        "\t\tepsilon=21"
       ]
      },
      {
       "output_type": "stream",
       "stream": "stdout",
       "text": [
        "\n",
        "\t\tepsilon=41"
       ]
      },
      {
       "output_type": "stream",
       "stream": "stdout",
       "text": [
        "\n",
        "\t\tepsilon=61"
       ]
      },
      {
       "output_type": "stream",
       "stream": "stdout",
       "text": [
        "\n",
        "\t\tepsilon=81"
       ]
      },
      {
       "output_type": "stream",
       "stream": "stdout",
       "text": [
        "\n",
        "\t\tepsilon=101"
       ]
      },
      {
       "output_type": "stream",
       "stream": "stdout",
       "text": [
        "\n",
        "\tMM=2"
       ]
      },
      {
       "output_type": "stream",
       "stream": "stdout",
       "text": [
        "\n",
        "\t\tepsilon=1\n",
        "\t\tepsilon=21"
       ]
      },
      {
       "output_type": "stream",
       "stream": "stdout",
       "text": [
        "\n",
        "\t\tepsilon=41"
       ]
      },
      {
       "output_type": "stream",
       "stream": "stdout",
       "text": [
        "\n",
        "\t\tepsilon=61"
       ]
      },
      {
       "output_type": "stream",
       "stream": "stdout",
       "text": [
        "\n",
        "\t\tepsilon=81"
       ]
      },
      {
       "output_type": "stream",
       "stream": "stdout",
       "text": [
        "\n",
        "\t\tepsilon=101"
       ]
      },
      {
       "output_type": "stream",
       "stream": "stdout",
       "text": [
        "\n",
        "\tMM=3"
       ]
      },
      {
       "output_type": "stream",
       "stream": "stdout",
       "text": [
        "\n",
        "\t\tepsilon=1\n",
        "\t\tepsilon=21"
       ]
      },
      {
       "output_type": "stream",
       "stream": "stdout",
       "text": [
        "\n",
        "\t\tepsilon=41"
       ]
      },
      {
       "output_type": "stream",
       "stream": "stdout",
       "text": [
        "\n",
        "\t\tepsilon=61"
       ]
      },
      {
       "output_type": "stream",
       "stream": "stdout",
       "text": [
        "\n",
        "\t\tepsilon=81"
       ]
      },
      {
       "output_type": "stream",
       "stream": "stdout",
       "text": [
        "\n",
        "\t\tepsilon=101"
       ]
      },
      {
       "output_type": "stream",
       "stream": "stdout",
       "text": [
        "\n",
        "\tMM=10"
       ]
      },
      {
       "output_type": "stream",
       "stream": "stdout",
       "text": [
        "\n",
        "\t\tepsilon=1\n",
        "\t\tepsilon=21"
       ]
      },
      {
       "output_type": "stream",
       "stream": "stdout",
       "text": [
        "\n",
        "\t\tepsilon=41"
       ]
      },
      {
       "output_type": "stream",
       "stream": "stdout",
       "text": [
        "\n",
        "\t\tepsilon=61"
       ]
      },
      {
       "output_type": "stream",
       "stream": "stdout",
       "text": [
        "\n",
        "\t\tepsilon=81"
       ]
      },
      {
       "output_type": "stream",
       "stream": "stdout",
       "text": [
        "\n",
        "\t\tepsilon=101"
       ]
      },
      {
       "output_type": "stream",
       "stream": "stdout",
       "text": [
        "\n",
        "Time spent: 5.57 minutes.\n"
       ]
      },
      {
       "output_type": "stream",
       "stream": "stdout",
       "text": [
        "\n"
       ]
      }
     ],
     "prompt_number": 8
    },
    {
     "cell_type": "markdown",
     "metadata": {},
     "source": [
      "## Exponential and Laplace Mechanism"
     ]
    },
    {
     "cell_type": "markdown",
     "metadata": {},
     "source": [
      "Write file of $\\chi^2$-statistics,"
     ]
    },
    {
     "cell_type": "code",
     "collapsed": false,
     "input": [
      "subprocess.check_call(shlex.split(\"python write_chisquare.py {infile} {outfile}\".format(infile=SNP_TABLE_FILE, outfile=CHISQUARE_FILE)))"
     ],
     "language": "python",
     "metadata": {},
     "outputs": [
      {
       "metadata": {},
       "output_type": "pyout",
       "prompt_number": 9,
       "text": [
        "0"
       ]
      }
     ],
     "prompt_number": 9
    },
    {
     "cell_type": "markdown",
     "metadata": {},
     "source": [
      "Exponential mechanism"
     ]
    },
    {
     "cell_type": "code",
     "collapsed": false,
     "input": [
      "start_time = time.time()\n",
      "## perturb\n",
      "perturb_result_no_sigLevel = {}\n",
      "for MM in PARAMS.MM_vec:\n",
      "    print(\"\\tMM={}\".format(MM))\n",
      "    perturb_result_no_sigLevel[MM] = {}\n",
      "    for epsilon in PARAMS.epsilon_vec:\n",
      "        print(\"\\t\\tepsilon={}\".format(epsilon))\n",
      "        perturbation = []\n",
      "        for ii in xrange(PARAMS.NN_perturb):\n",
      "            proc = subprocess.Popen(shlex.split('python get_expo_results.py {k} {e} {n_case} {n_control} {infile}'.format(k=MM, e=epsilon, n_case=PARAMS.NN_case, n_control=PARAMS.NN_control, infile=CHISQUARE_FILE)), stdout=subprocess.PIPE)\n",
      "            perturbation.append(proc.communicate()[0].split())\n",
      "        perturb_result_no_sigLevel[MM][epsilon] = perturbation\n",
      "\n",
      "perturb_result = {}\n",
      "for sig_level in PARAMS.sig_level_vec:\n",
      "    perturb_result[sig_level] = perturb_result_no_sigLevel\n",
      "\n",
      "perturb_result_dict['Exponential'] = perturb_result\n",
      "print('Time spent: {} minutes.\\n'.format(round((time.time() - start_time) / 60, 2)))"
     ],
     "language": "python",
     "metadata": {},
     "outputs": [
      {
       "output_type": "stream",
       "stream": "stdout",
       "text": [
        "\tMM=1\n",
        "\t\tepsilon=1\n",
        "\t\tepsilon=21"
       ]
      },
      {
       "output_type": "stream",
       "stream": "stdout",
       "text": [
        "\n",
        "\t\tepsilon=41"
       ]
      },
      {
       "output_type": "stream",
       "stream": "stdout",
       "text": [
        "\n",
        "\t\tepsilon=61"
       ]
      },
      {
       "output_type": "stream",
       "stream": "stdout",
       "text": [
        "\n",
        "\t\tepsilon=81"
       ]
      },
      {
       "output_type": "stream",
       "stream": "stdout",
       "text": [
        "\n",
        "\t\tepsilon=101"
       ]
      },
      {
       "output_type": "stream",
       "stream": "stdout",
       "text": [
        "\n",
        "\tMM=2"
       ]
      },
      {
       "output_type": "stream",
       "stream": "stdout",
       "text": [
        "\n",
        "\t\tepsilon=1\n",
        "\t\tepsilon=21"
       ]
      },
      {
       "output_type": "stream",
       "stream": "stdout",
       "text": [
        "\n",
        "\t\tepsilon=41"
       ]
      },
      {
       "output_type": "stream",
       "stream": "stdout",
       "text": [
        "\n",
        "\t\tepsilon=61"
       ]
      },
      {
       "output_type": "stream",
       "stream": "stdout",
       "text": [
        "\n",
        "\t\tepsilon=81"
       ]
      },
      {
       "output_type": "stream",
       "stream": "stdout",
       "text": [
        "\n",
        "\t\tepsilon=101"
       ]
      },
      {
       "output_type": "stream",
       "stream": "stdout",
       "text": [
        "\n",
        "\tMM=3"
       ]
      },
      {
       "output_type": "stream",
       "stream": "stdout",
       "text": [
        "\n",
        "\t\tepsilon=1\n",
        "\t\tepsilon=21"
       ]
      },
      {
       "output_type": "stream",
       "stream": "stdout",
       "text": [
        "\n",
        "\t\tepsilon=41"
       ]
      },
      {
       "output_type": "stream",
       "stream": "stdout",
       "text": [
        "\n",
        "\t\tepsilon=61"
       ]
      },
      {
       "output_type": "stream",
       "stream": "stdout",
       "text": [
        "\n",
        "\t\tepsilon=81"
       ]
      },
      {
       "output_type": "stream",
       "stream": "stdout",
       "text": [
        "\n",
        "\t\tepsilon=101"
       ]
      },
      {
       "output_type": "stream",
       "stream": "stdout",
       "text": [
        "\n",
        "\tMM=10"
       ]
      },
      {
       "output_type": "stream",
       "stream": "stdout",
       "text": [
        "\n",
        "\t\tepsilon=1\n",
        "\t\tepsilon=21"
       ]
      },
      {
       "output_type": "stream",
       "stream": "stdout",
       "text": [
        "\n",
        "\t\tepsilon=41"
       ]
      },
      {
       "output_type": "stream",
       "stream": "stdout",
       "text": [
        "\n",
        "\t\tepsilon=61"
       ]
      },
      {
       "output_type": "stream",
       "stream": "stdout",
       "text": [
        "\n",
        "\t\tepsilon=81"
       ]
      },
      {
       "output_type": "stream",
       "stream": "stdout",
       "text": [
        "\n",
        "\t\tepsilon=101"
       ]
      },
      {
       "output_type": "stream",
       "stream": "stdout",
       "text": [
        "\n",
        "Time spent: 1.7 minutes.\n"
       ]
      },
      {
       "output_type": "stream",
       "stream": "stdout",
       "text": [
        "\n"
       ]
      }
     ],
     "prompt_number": 10
    },
    {
     "cell_type": "markdown",
     "metadata": {},
     "source": [
      "Laplace Mechanism."
     ]
    },
    {
     "cell_type": "code",
     "collapsed": false,
     "input": [
      "start_time = time.time()\n",
      "## perturb\n",
      "perturb_result_no_sigLevel = {}\n",
      "for MM in PARAMS.MM_vec:\n",
      "    print(\"\\tMM={}\".format(MM))\n",
      "    perturb_result_no_sigLevel[MM] = {}\n",
      "    for epsilon in PARAMS.epsilon_vec:\n",
      "        print(\"\\t\\tepsilon={}\".format(epsilon))\n",
      "        perturbation = []\n",
      "        for ii in xrange(PARAMS.NN_perturb):\n",
      "            proc = subprocess.Popen(shlex.split('python get_laplace_results.py {k} {e} {n_case} {n_control} {infile}'.format(k=MM, e=epsilon, n_case=PARAMS.NN_case, n_control=PARAMS.NN_control, infile=CHISQUARE_FILE)), stdout=subprocess.PIPE)\n",
      "            perturbation.append(proc.communicate()[0].split())\n",
      "        perturb_result_no_sigLevel[MM][epsilon] = perturbation\n",
      "\n",
      "perturb_result = {}\n",
      "for sig_level in PARAMS.sig_level_vec:\n",
      "    perturb_result[sig_level] = perturb_result_no_sigLevel\n",
      "\n",
      "perturb_result_dict['Laplace'] = perturb_result\n",
      "print('Time spent: {} minutes.\\n'.format(round((time.time() - start_time) / 60, 2)))"
     ],
     "language": "python",
     "metadata": {},
     "outputs": [
      {
       "output_type": "stream",
       "stream": "stdout",
       "text": [
        "\tMM=1\n",
        "\t\tepsilon=1\n",
        "\t\tepsilon=21"
       ]
      },
      {
       "output_type": "stream",
       "stream": "stdout",
       "text": [
        "\n",
        "\t\tepsilon=41"
       ]
      },
      {
       "output_type": "stream",
       "stream": "stdout",
       "text": [
        "\n",
        "\t\tepsilon=61"
       ]
      },
      {
       "output_type": "stream",
       "stream": "stdout",
       "text": [
        "\n",
        "\t\tepsilon=81"
       ]
      },
      {
       "output_type": "stream",
       "stream": "stdout",
       "text": [
        "\n",
        "\t\tepsilon=101"
       ]
      },
      {
       "output_type": "stream",
       "stream": "stdout",
       "text": [
        "\n",
        "\tMM=2"
       ]
      },
      {
       "output_type": "stream",
       "stream": "stdout",
       "text": [
        "\n",
        "\t\tepsilon=1\n",
        "\t\tepsilon=21"
       ]
      },
      {
       "output_type": "stream",
       "stream": "stdout",
       "text": [
        "\n",
        "\t\tepsilon=41"
       ]
      },
      {
       "output_type": "stream",
       "stream": "stdout",
       "text": [
        "\n",
        "\t\tepsilon=61"
       ]
      },
      {
       "output_type": "stream",
       "stream": "stdout",
       "text": [
        "\n",
        "\t\tepsilon=81"
       ]
      },
      {
       "output_type": "stream",
       "stream": "stdout",
       "text": [
        "\n",
        "\t\tepsilon=101"
       ]
      },
      {
       "output_type": "stream",
       "stream": "stdout",
       "text": [
        "\n",
        "\tMM=3"
       ]
      },
      {
       "output_type": "stream",
       "stream": "stdout",
       "text": [
        "\n",
        "\t\tepsilon=1\n",
        "\t\tepsilon=21"
       ]
      },
      {
       "output_type": "stream",
       "stream": "stdout",
       "text": [
        "\n",
        "\t\tepsilon=41"
       ]
      },
      {
       "output_type": "stream",
       "stream": "stdout",
       "text": [
        "\n",
        "\t\tepsilon=61"
       ]
      },
      {
       "output_type": "stream",
       "stream": "stdout",
       "text": [
        "\n",
        "\t\tepsilon=81"
       ]
      },
      {
       "output_type": "stream",
       "stream": "stdout",
       "text": [
        "\n",
        "\t\tepsilon=101"
       ]
      },
      {
       "output_type": "stream",
       "stream": "stdout",
       "text": [
        "\n",
        "\tMM=10"
       ]
      },
      {
       "output_type": "stream",
       "stream": "stdout",
       "text": [
        "\n",
        "\t\tepsilon=1\n",
        "\t\tepsilon=21"
       ]
      },
      {
       "output_type": "stream",
       "stream": "stdout",
       "text": [
        "\n",
        "\t\tepsilon=41"
       ]
      },
      {
       "output_type": "stream",
       "stream": "stdout",
       "text": [
        "\n",
        "\t\tepsilon=61"
       ]
      },
      {
       "output_type": "stream",
       "stream": "stdout",
       "text": [
        "\n",
        "\t\tepsilon=81"
       ]
      },
      {
       "output_type": "stream",
       "stream": "stdout",
       "text": [
        "\n",
        "\t\tepsilon=101"
       ]
      },
      {
       "output_type": "stream",
       "stream": "stdout",
       "text": [
        "\n",
        "Time spent: 1.34 minutes.\n"
       ]
      },
      {
       "output_type": "stream",
       "stream": "stdout",
       "text": [
        "\n"
       ]
      }
     ],
     "prompt_number": 11
    },
    {
     "cell_type": "markdown",
     "metadata": {},
     "source": [
      "# Analysis"
     ]
    },
    {
     "cell_type": "markdown",
     "metadata": {},
     "source": [
      "## Get the average number of SNPs recovered"
     ]
    },
    {
     "cell_type": "markdown",
     "metadata": {},
     "source": [
      "Get the $\\chi^2$-statistics."
     ]
    },
    {
     "cell_type": "code",
     "collapsed": false,
     "input": [
      "name_score_tuples = []\n",
      "with open(CHISQUARE_FILE, 'r') as infile:\n",
      "    # skip header line\n",
      "    garbage = infile.readline()\n",
      "    for line in infile:\n",
      "        name, score = line.split()\n",
      "        name_score_tuples.append((name, float(score)))\n",
      "\n",
      "name_score_dict = dict(name_score_tuples)\n",
      "snp_scores = np.array([ss for name, ss in name_score_tuples])"
     ],
     "language": "python",
     "metadata": {},
     "outputs": [],
     "prompt_number": 12
    },
    {
     "cell_type": "code",
     "collapsed": false,
     "input": [
      "perturb_result_utility = {}\n",
      "for method in perturb_result_dict:\n",
      "    perturb_result_utility[method] = {}\n",
      "    for sig_level in perturb_result_dict[method]:\n",
      "        perturb_result_utility[method][sig_level] = {}\n",
      "        for MM in perturb_result_dict[method][sig_level]:\n",
      "            perturb_result_utility[method][sig_level][MM] = {}\n",
      "            for epsilon in perturb_result_dict[method][sig_level][MM]:\n",
      "                M_highest_score = np.sort(snp_scores)[::-1][MM-1]\n",
      "#                 full_top_snp_set = [name_score_tuples[ii][0] for ii in np.argsort(snp_scores)[::-1][:MM]]\n",
      "#                 full_top_snp_set += [nn for nn, ss in name_score_tuples if ss >= M_highest_score]\n",
      "#                 full_top_snp_set = set(full_top_snp_set)\n",
      "                perturbed_snp_scores = [np.array(map(name_score_dict.get, vec)) \n",
      "                                        for vec in perturb_result_dict[method][sig_level][MM][epsilon]]\n",
      "                snps_recovered = map(lambda vec: np.sum(vec >= M_highest_score), perturbed_snp_scores)\n",
      "                perturb_result_utility[method][sig_level][MM][epsilon] = 1. * np.mean(snps_recovered) / MM\n"
     ],
     "language": "python",
     "metadata": {},
     "outputs": [],
     "prompt_number": 13
    },
    {
     "cell_type": "markdown",
     "metadata": {},
     "source": [
      "## Make some plots"
     ]
    },
    {
     "cell_type": "code",
     "collapsed": false,
     "input": [
      "## make plots bigger\n",
      "import matplotlib\n",
      "matplotlib.rcParams['savefig.dpi'] = 1.5 * matplotlib.rcParams['savefig.dpi']"
     ],
     "language": "python",
     "metadata": {},
     "outputs": [],
     "prompt_number": 14
    },
    {
     "cell_type": "code",
     "collapsed": false,
     "input": [
      "MY_COLORS = [\"#999999\", \"#E69F00\", \"#56B4E9\", \"#009E73\", \"#F0E442\", \"#0072B2\", \"#D55E00\", \"#CC79A7\"]\n",
      "import matplotlib.lines as lines\n",
      "MARKERS = lines.Line2D.filled_markers\n",
      "# MARKERS = ['v', r'$\\Omega$', r'o']\n",
      "LINE_STYLES = ['-', '--',  ':', '-.', '_' ]"
     ],
     "language": "python",
     "metadata": {},
     "outputs": [],
     "prompt_number": 15
    },
    {
     "cell_type": "markdown",
     "metadata": {},
     "source": [
      "### $\\chi^2$-statistics sorted in descending order"
     ]
    },
    {
     "cell_type": "code",
     "collapsed": false,
     "input": [
      "fig, ax = plt.subplots(figsize=(7,7))\n",
      "ax.scatter(np.arange(len(snp_scores)), np.sort(snp_scores)[::-1], s=10, marker='x')\n",
      "ax.set_ylabel('$\\chi^2$-statistic')\n",
      "ax.set_xlabel('Rank')"
     ],
     "language": "python",
     "metadata": {},
     "outputs": [
      {
       "metadata": {},
       "output_type": "pyout",
       "prompt_number": 16,
       "text": [
        "<matplotlib.text.Text at 0x105c05c90>"
       ]
      },
      {
       "metadata": {},
       "output_type": "display_data",
       "png": "[encoded data removed]",
       "text": [
        "<matplotlib.figure.Figure at 0x105c094d0>"
       ]
      }
     ],
     "prompt_number": 16
    },
    {
     "cell_type": "markdown",
     "metadata": {},
     "source": [
      "### Performance comparison of the DP mechanisms"
     ]
    },
    {
     "cell_type": "code",
     "collapsed": false,
     "input": [
      "fig, ax_array = plt.subplots(len(PARAMS.MM_vec), len(PARAMS.sig_level_vec), \n",
      "                       sharex='col', sharey='row', figsize=(7,7))\n",
      "plt.subplots_adjust(left=0.1, right=0.9, top=0.9, bottom=0.1)\n",
      "for ii, MM in enumerate(PARAMS.MM_vec):\n",
      "    for jj, sig_level in enumerate(PARAMS.sig_level_vec):\n",
      "        ax = ax_array[ii, jj]\n",
      "        ax.set_xlim([-10, np.max(PARAMS.epsilon_vec) + 5])\n",
      "        for kk, method in enumerate(perturb_result_utility):\n",
      "            xx = PARAMS.epsilon_vec\n",
      "            yy = map(perturb_result_utility[method][sig_level][MM].get, xx)\n",
      "            # ax.plot(xx, yy, color=MY_COLORS[kk % len(MY_COLORS)], label=method, \n",
      "            #         linestyle='-', marker=MARKERS[kk], markersize=5)\n",
      "            ax.plot(xx, yy, color=MY_COLORS[kk % len(MY_COLORS)], label=method, \n",
      "                    linestyle=LINE_STYLES[kk], linewidth=2.0, marker=MARKERS[kk], \n",
      "                    markersize=4.5, )\n",
      "        if ii == 0 and jj == 0:\n",
      "            # ax.set_ylabel('Proportion of significant SNPs recovered')\n",
      "            ax.legend(bbox_to_anchor=(0., 1.02, 1., .102), loc=3, ncol=3, \n",
      "                      prop={'size':8}, mode=\"tight\", borderaxespad=0.)            \n",
      "        if ii == 0:  # set column title on the first row\n",
      "            ## set title\n",
      "            ax.text(0.5, 1.25, \n",
      "                r'$p$-value=$\\frac{%s}{%s}$' % (str(sig_level), str(snp_num)),\n",
      "                horizontalalignment='center',\n",
      "                fontsize=\"large\",\n",
      "                transform=ax.transAxes)\n",
      "        if jj == len(PARAMS.sig_level_vec) - 1:  # set row title on the last column\n",
      "            ax.text(1.15, 0.5, 'M={}'.format(MM),\n",
      "                    horizontalalignment='center',\n",
      "                    verticalalignment='center',\n",
      "                    rotation=0,\n",
      "                    transform=ax.transAxes)\n",
      "        if ii == len(PARAMS.MM_vec) - 1 and jj == 0:\n",
      "            ax.set_ylabel('Utility')\n",
      "            ax.set_xlabel('Privacy budget ($\\epsilon$)')"
     ],
     "language": "python",
     "metadata": {},
     "outputs": [
      {
       "metadata": {},
       "output_type": "display_data",
       "png": "[encoded data removed]",
       "text": [
        "<matplotlib.figure.Figure at 0x10658b450>"
       ]
      }
     ],
     "prompt_number": 17
    },
    {
     "cell_type": "code",
     "collapsed": false,
     "input": [
      "fig, ax = plt.subplots(1, 1, figsize=(7,7))\n",
      "plt.subplots_adjust(left=0.1, right=0.9, top=0.9, bottom=0.1)\n",
      "ax.tick_params(labelsize=16)\n",
      "for ii, MM in enumerate([PARAMS.MM_vec[-2]] * 4):\n",
      "    for jj, sig_level in enumerate([PARAMS.sig_level_vec[1]]):\n",
      "        ax.set_xlim([-10, np.max(PARAMS.epsilon_vec) + 5])\n",
      "        for kk, method in enumerate(perturb_result_utility):\n",
      "            xx = PARAMS.epsilon_vec\n",
      "            yy = map(perturb_result_utility[method][sig_level][MM].get, xx)\n",
      "            # ax.plot(xx, yy, color=MY_COLORS[kk % len(MY_COLORS)], label=method, \n",
      "            #         linestyle='-', marker=MARKERS[kk], markersize=5)\n",
      "            ax.plot(xx, yy, color=MY_COLORS[kk % len(MY_COLORS)], label=method, \n",
      "                    linestyle=LINE_STYLES[kk], linewidth=2.0, marker=MARKERS[kk], \n",
      "                    markersize=7, )\n",
      "        if ii == 0 and jj == 0:\n",
      "            # ax.set_ylabel('Proportion of significant SNPs recovered')\n",
      "            ax.legend(bbox_to_anchor=(0.7, 1.05, 1, .102), loc=2, ncol=1, \n",
      "                      prop={'size':12}, mode=\"tight\", borderaxespad=0.)            \n",
      "        if ii == 0:  # set column title on the first row\n",
      "            ## set title\n",
      "            ax.text(0.5, 1.05, \n",
      "                r'$p$-value=$\\frac{%s}{%s}$, M=%s              ' % (str(sig_level), str(snp_num), str(MM)),\n",
      "                horizontalalignment='center',\n",
      "                size=18,\n",
      "                transform=ax.transAxes)\n",
      "        if ii == 0 and jj == 0:\n",
      "            ax.set_ylabel('Utility', fontsize=18)\n",
      "            ax.set_xlabel('Privacy budget ($\\epsilon$)', fontsize=18)\n",
      "plt.savefig(\"risk-util-1x1.svg\")"
     ],
     "language": "python",
     "metadata": {},
     "outputs": [
      {
       "metadata": {},
       "output_type": "display_data",
       "png": "[encoded data removed]",
       "text": [
        "<matplotlib.figure.Figure at 0x10722ce10>"
       ]
      }
     ],
     "prompt_number": 18
    }
   ],
   "metadata": {}
  }
 ]
}