{
 "metadata": {
  "name": ""
 },
 "nbformat": 3,
 "nbformat_minor": 0,
 "worksheets": [
  {
   "cells": [
    {
     "cell_type": "markdown",
     "metadata": {},
     "source": [
      "This function will calculate the distance to flipping the significance of a SNP.\n",
      "\n",
      "Reference: Johnson & Shmatikov (2013)"
     ]
    },
    {
     "cell_type": "markdown",
     "metadata": {},
     "source": [
      "Assumptions:\n",
      "\n",
      "* The MAF of the controls are fixed. "
     ]
    },
    {
     "cell_type": "code",
     "collapsed": false,
     "input": [
      "import numpy as np\n",
      "import scipy.stats as stats\n",
      "import os\n",
      "import imp"
     ],
     "language": "python",
     "metadata": {},
     "outputs": [],
     "prompt_number": 1
    },
    {
     "cell_type": "code",
     "collapsed": false,
     "input": [
      "SCRIPT_DIR = os.path.dirname(os.path.realpath(__file__))\n",
      "\n",
      "def import_anywhere(module_name, paths):\n",
      "    \"\"\"import methods from any folder\"\"\"\n",
      "    try:\n",
      "        f, filename, desc = imp.find_module(module_name, paths)\n",
      "        return imp.load_module(module_name, f, filename, desc)\n",
      "    finally:\n",
      "        # Since we may exit via an exception, close fp explicitly.\n",
      "        if f:\n",
      "            f.close()"
     ],
     "language": "python",
     "metadata": {},
     "outputs": []
    },
    {
     "cell_type": "heading",
     "level": 3,
     "metadata": {},
     "source": [
      "Some constants and utility functions"
     ]
    },
    {
     "cell_type": "code",
     "collapsed": false,
     "input": [
      "DEBUG = True"
     ],
     "language": "python",
     "metadata": {},
     "outputs": []
    },
    {
     "cell_type": "code",
     "collapsed": false,
     "input": [
      "utility_functions = import_anywhere('utility_functions', [SCRIPT_DIR])\n",
      "from utility_functions import chisq_stat, chisq_gradient"
     ],
     "language": "python",
     "metadata": {},
     "outputs": [],
     "prompt_number": 3
    },
    {
     "cell_type": "code",
     "collapsed": false,
     "input": [
      "## direction vectors for the case row and the genotype total of a 2x3 genotype table: (r_0, r_1, n_0, n_1)\n",
      "DIRECTION_VECTORS = np.array([\n",
      "    (0, 0, -1, 1), (0, 0, -1, 0), (0, 0, 1, -1), (0, 0, 1, 0),\n",
      "    (0, 0, 0, -1), (0, 0, 0, 1),\n",
      "    (-1, 1, -1, 1), (-1, 0, -1, 0), (1, -1, 1, -1), (1, 0, 1, 0),\n",
      "    (0, -1, 0, -1), (0, 1, 0, 1),\n",
      "])\n",
      "\n",
      "def augment_direction_vector(uu):\n",
      "    \"\"\"Augment the direction vectors so that they are compatible with 2x3 input \n",
      "    tables.\n",
      "    Args:\n",
      "        uu: direction vector for the cases\n",
      "    \"\"\"\n",
      "    uu_for_r = np.array([uu[0], uu[1], -(uu[0] + uu[1])])\n",
      "    ## check if uu will change the first row\n",
      "    if np.any(uu_for_r != 0):\n",
      "        uu_for_s = np.zeros(3)\n",
      "    else:\n",
      "        uu_for_s = np.array([uu[2], uu[3], -(uu[2] + uu[3])])\n",
      "    return np.array([uu_for_r, uu_for_s])"
     ],
     "language": "python",
     "metadata": {},
     "outputs": [],
     "prompt_number": 2
    },
    {
     "cell_type": "code",
     "collapsed": false,
     "input": [
      "def move_is_legal(input_table, uu):\n",
      "    \"\"\"Chcek whether moving the input table in the direction of uu is legal.\n",
      "    Args:\n",
      "        input_table: A 2x3 numpy matrix.\n",
      "        uu: A direction vector compatible with the input table.\n",
      "\n",
      "    Returns:\n",
      "        True/False.\n",
      "    \"\"\"\n",
      "    new_table = input_table + uu\n",
      "    ## check negative cells\n",
      "    if np.any(new_table < 0):\n",
      "        return False\n",
      "    ## check zero margins\n",
      "    colsum = np.array(map(np.sum, new_table.T))\n",
      "    if np.any(colsum == 0):\n",
      "        return False\n",
      "    return True"
     ],
     "language": "python",
     "metadata": {},
     "outputs": [],
     "prompt_number": 5
    },
    {
     "cell_type": "code",
     "collapsed": false,
     "input": [
      "def greedy_distance_to_significance_flip(input_table, threshold_pval):\n",
      "    \"\"\"Calculate the distance to flip the significance.\n",
      "\n",
      "    Distance is defined as the Hamming distance in the space of all databases. \n",
      "\n",
      "    Args:\n",
      "        input_table: A 2x3 numpy matrix.\n",
      "        threshold_pval: Threshold p-value.\n",
      "\n",
      "    Returns:\n",
      "        The Hamming distance. Return \"None\" if no such distance can be found.\n",
      "\n",
      "    At any point, say v, if the absolute value of the directional\n",
      "    derivative is maximized in the direction u, then move v in the direction\n",
      "    of u.\n",
      "    \"\"\"\n",
      "    def find_best_legal_move(input_table, sig_direction):\n",
      "        \"\"\"Find the best legal move conditioning on the direction of the change\n",
      "            in significance.\n",
      "        \"\"\"\n",
      "        ## determine which moves are legal\n",
      "        legal_moves = np.array([move_is_legal(input_table, augment_direction_vector(ee))\n",
      "                                for ee in DIRECTION_VECTORS])\n",
      "        if not np.any(legal_moves):\n",
      "            ## return if not legal move is possible\n",
      "            return None\n",
      "        legal_move_indices = np.arange(len(DIRECTION_VECTORS))[legal_moves]\n",
      "        ## get directional_derivatives\n",
      "        gradient = chisq_gradient(input_table)\n",
      "        directional_derivatives = np.array([\n",
      "            np.dot(gradient, ee) for ee in np.array(DIRECTION_VECTORS)[legal_moves]])\n",
      "        assert np.max(directional_derivatives * sig_direction) >= 0,\\\n",
      "        \"The direction of the significance flip is %d \" % (sig_direction) +\\\n",
      "        \"but all of the directional derivatives are of the opposite sign.\" +\\\n",
      "        \"The directional derivatives are: {}\".format(str(directional_derivatives))\n",
      "        if sig_direction > 0:\n",
      "            best_move_idx = legal_move_indices[np.argmax(directional_derivatives)]\n",
      "        else:\n",
      "            best_move_idx = legal_move_indices[np.argmin(directional_derivatives)]\n",
      "        if gradient == 0:\n",
      "            print input_table\n",
      "        return DIRECTION_VECTORS[best_move_idx]\n",
      "    ## make a copy of the input table\n",
      "    input_table = input_table.copy()\n",
      "    dist = 0\n",
      "    threshold_chisq = stats.chi2.isf(threshold_pval, 2)\n",
      "    ## If sig_direction > 0, make table significant.\n",
      "    ## If sig_direction < 0, make table insignificant.\n",
      "    sig_direction = 1 if chisq_stat(input_table) < threshold_chisq else -1\n",
      "    curr_table = input_table.copy()\n",
      "    while 1:\n",
      "        ## find best direction vector\n",
      "        uu = find_best_legal_move(curr_table, sig_direction)\n",
      "        if uu is None:\n",
      "            break\n",
      "        uu = augment_direction_vector(uu)\n",
      "        curr_table += uu\n",
      "        if DEBUG:\n",
      "            print(\"chi-sqaure stat = {}, curr_table={}, uu={}\".format(\n",
      "                  chisq_stat(curr_table), \n",
      "                  str(curr_table.tolist()),\n",
      "                  str(uu.tolist())))\n",
      "        dist += 1\n",
      "        if sig_direction * (chisq_stat(curr_table) - threshold_chisq) >= 0:\n",
      "            ## Significance has flipped!\n",
      "            return dist * sig_direction\n",
      "    return None"
     ],
     "language": "python",
     "metadata": {},
     "outputs": [],
     "prompt_number": 6
    },
    {
     "cell_type": "code",
     "collapsed": false,
     "input": [
      "def main():\n",
      "    print(\"Begin to debug.\")\n",
      "    ## check chisq_stat()\n",
      "    tt1 = np.array([[16, 17, 18],\n",
      "                    [10, 20, 5]])    \n",
      "    assert round(chisq_stat(tt1), 3) == 6.214, \"Error with chisq_stat().\"\n",
      "    ## check chisq_gradient()\n",
      "    grad1 = chisq_gradient(tt1)\n",
      "    assert map(round, grad1, [3] * len(grad1)) == [-0.334, -0.646, 0.234, 0.401],\\\n",
      "        \"Error with chisq_gradient().\"\n",
      "    tt2 = np.array([[0, 17, 18],\n",
      "                    [10, 20, 5]]) \n",
      "    grad2 = chisq_gradient(tt2)\n",
      "    assert map(round, grad2, [3] * len(grad2)) == [-1.565, -0.646, 0.612, 0.401],\\\n",
      "        \"Error with chisq_gradient().\"\n",
      "    ## check move_is_legal()\n",
      "    assert move_is_legal(tt1, augment_direction_vector((1, -1, 1, -1))),\\\n",
      "        \"Error with move_is_legal().\"\n",
      "    assert not move_is_legal(tt2, augment_direction_vector((-1, 0, -1, 0))),\\\n",
      "        \"Error with move_is_legal().\"\n",
      "    print(\"Finish debugging.\")\n",
      "\n",
      "if __name__ == \"__main__\":\n",
      "    main()"
     ],
     "language": "python",
     "metadata": {},
     "outputs": [
      {
       "output_type": "stream",
       "stream": "stdout",
       "text": [
        "Begin to debug.\n",
        "Finish debugging.\n"
       ]
      }
     ],
     "prompt_number": 7
    },
    {
     "cell_type": "code",
     "collapsed": false,
     "input": [],
     "language": "python",
     "metadata": {},
     "outputs": []
    }
   ],
   "metadata": {}
  }
 ]
}