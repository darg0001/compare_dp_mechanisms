{
 "metadata": {
  "name": "",
  "signature": "sha256:1178cf46f67d732cf954294b1c1e3eb8898af816df587d2eb463e2d36c3100d2"
 },
 "nbformat": 3,
 "nbformat_minor": 0,
 "worksheets": [
  {
   "cells": [
    {
     "cell_type": "markdown",
     "metadata": {},
     "source": [
      "This function will calculate the distance to flipping the significance of a SNP.\n",
      "\n",
      "Reference: Johnson & Shmatikov (2013)"
     ]
    },
    {
     "cell_type": "markdown",
     "metadata": {},
     "source": [
      "Assumptions:\n",
      "\n",
      "* The MAF of the controls are fixed. "
     ]
    },
    {
     "cell_type": "code",
     "collapsed": false,
     "input": [
      "import numpy as np\n",
      "import scipy.stats as stats\n",
      "import os\n",
      "import imp"
     ],
     "language": "python",
     "metadata": {},
     "outputs": []
    },
    {
     "cell_type": "code",
     "collapsed": false,
     "input": [
      "SCRIPT_DIR = os.path.dirname(os.path.realpath(__file__))\n",
      "\n",
      "def import_anywhere(module_name, paths):\n",
      "    \"\"\"import methods from any folder\"\"\"\n",
      "    try:\n",
      "        f, filename, desc = imp.find_module(module_name, paths)\n",
      "        return imp.load_module(module_name, f, filename, desc)\n",
      "    finally:\n",
      "        # Since we may exit via an exception, close fp explicitly.\n",
      "        if f:\n",
      "            f.close()"
     ],
     "language": "python",
     "metadata": {},
     "outputs": []
    },
    {
     "cell_type": "heading",
     "level": 3,
     "metadata": {},
     "source": [
      "Some constants and utility functions"
     ]
    },
    {
     "cell_type": "code",
     "collapsed": false,
     "input": [
      "DEBUG = True"
     ],
     "language": "python",
     "metadata": {},
     "outputs": []
    },
    {
     "cell_type": "code",
     "collapsed": false,
     "input": [
      "utility_functions = import_anywhere('utility_functions', [SCRIPT_DIR])\n",
      "from utility_functions import chisq_stat"
     ],
     "language": "python",
     "metadata": {},
     "outputs": []
    },
    {
     "cell_type": "code",
     "collapsed": false,
     "input": [
      "## direction vectors for the case row and the genotype total of a 2x3 genotype table: (r_0, r_1, n_0, n_1)\n",
      "\n",
      "def augment_direction_vector(uu):\n",
      "    \"\"\"Augment the direction vectors so that they are compatible with 2x3 input \n",
      "    tables.\n",
      "    Args:\n",
      "        uu: direction vector for the cases\n",
      "    \"\"\"\n",
      "    uu_for_r = np.array([uu[0], uu[1], -(uu[0] + uu[1])])\n",
      "    ## check if uu will change the first row\n",
      "    if np.any(uu_for_r != 0):\n",
      "        uu_for_s = np.zeros(3)\n",
      "    else:\n",
      "        uu_for_s = np.array([uu[2], uu[3], -(uu[2] + uu[3])])\n",
      "    return np.array([uu_for_r, uu_for_s])"
     ],
     "language": "python",
     "metadata": {},
     "outputs": []
    },
    {
     "cell_type": "code",
     "collapsed": false,
     "input": [
      "def move_is_legal(input_table, uu):\n",
      "    \"\"\"Chcek whether moving the input table in the direction of uu is legal.\n",
      "    Args:\n",
      "        input_table: A 2x3 numpy matrix.\n",
      "        uu: A direction vector compatible with the input table.\n",
      "\n",
      "    Returns:\n",
      "        True/False.\n",
      "    \"\"\"\n",
      "    new_table = input_table + uu\n",
      "    ## check negative cells\n",
      "    if np.any(new_table < 0):\n",
      "        return False\n",
      "    ## check zero margins\n",
      "    colsum = np.array(map(np.sum, new_table.T))\n",
      "    if np.any(colsum == 0):\n",
      "        return False\n",
      "    return True"
     ],
     "language": "python",
     "metadata": {},
     "outputs": []
    },
    {
     "cell_type": "code",
     "collapsed": false,
     "input": [
      "def greedy_distance_to_significance_flip(input_table, threshold_pval):\n",
      "    \"\"\"Calculate the distance to flip the significance.\n",
      "\n",
      "    Distance is defined as the Hamming distance in the space of all databases. \n",
      "\n",
      "    Args:\n",
      "        input_table: A 2x3 numpy matrix.\n",
      "        threshold_pval: Threshold p-value.\n",
      "\n",
      "    Returns:\n",
      "        The Hamming distance. Return \"None\" if no such distance can be found.\n",
      "    \"\"\"\n",
      "    threshold_chisq = stats.chi2.isf(threshold_pval, 1) # !!! allelic chisquare\n",
      "    ## If sig_direction > 0, make table significant.\n",
      "    ## If sig_direction < 0, make table insignificant.\n",
      "    sig_direction = 1 if chisq_stat(input_table) < threshold_chisq else -1\n",
      "    ## if table is insignificant, then we want to make it significant\n",
      "    if sig_direction >= 1:\n",
      "        (H1, H2) = 0, 0\n",
      "        # find H1: decrease r_0 then decrease r_1\n",
      "        curr_table = input_table.copy()     ## make a copy of the input table\n",
      "        while 1:\n",
      "            # if r_0 can be decreased \n",
      "            if move_is_legal(curr_table, augment_direction_vector(np.array((-1, 0, -1, 0)))):\n",
      "                next_move = np.array((-1, 0, -1, 0))\n",
      "            # if r_0 cannot be decreased anymore\n",
      "            else:\n",
      "                # if r_1 can be decreased\n",
      "                if move_is_legal(curr_table, augment_direction_vector(np.array((0, -1, 0, -1)))):\n",
      "                    next_move = np.array((0, -1, 0, -1))\n",
      "                else:\n",
      "                    # if all things fail\n",
      "                    break\n",
      "            H1 += 1\n",
      "            curr_table += augment_direction_vector(next_move)\n",
      "            if chisq_stat(curr_table) >= threshold_chisq:\n",
      "            ## Significance has flipped!\n",
      "                 break\n",
      "        # find H2: increase r_0 then increase r_0 and decrease r_1 at the same time\n",
      "        curr_table = input_table.copy()    ## make a copy of the input table\n",
      "        while 1:\n",
      "            # if r_0 can be increased \n",
      "            if move_is_legal(curr_table, augment_direction_vector(np.array((1, 0, 1, 0)))):\n",
      "                next_move = np.array((1, 0, 1, 0))\n",
      "            # if r_0 cannot be increased anymore\n",
      "            else:\n",
      "                # if r_0 can be increased with r_1 being decreased\n",
      "                if move_is_legal(curr_table, augment_direction_vector(np.array((1, -1, 1, -1)))):\n",
      "                    next_move = np.array((1, -1, 1, -1))\n",
      "                else:\n",
      "                    # if all things fail\n",
      "                    break\n",
      "            H2 += 1\n",
      "            curr_table += augment_direction_vector(next_move)\n",
      "            if chisq_stat(curr_table) >= threshold_chisq:\n",
      "            ## Significance has flipped!\n",
      "                 break       \n",
      "        return sig_direction * min([H1, H2])\n",
      "    ## if table is significant, then we want to make it insignificant\n",
      "    if sig_direction <= -1: \n",
      "        dist = 0\n",
      "        # if table is to the right of red line (decreases as r_0 decreases)\n",
      "        if (2 * input_table[0,0] + input_table[0,1]) * np.sum(input_table[1]) > \\\n",
      "            (2 * input_table[1,0] + input_table[1,1]) * np.sum(input_table[0]):\n",
      "            curr_table = input_table.copy()    ## make a copy of the input table\n",
      "            while 1:\n",
      "                next_move = np.array((-1, 0, -1, 0))\n",
      "                # if r_0 can be increased \n",
      "                if not move_is_legal(curr_table, augment_direction_vector(next_move)):\n",
      "                    break\n",
      "                curr_table += augment_direction_vector(next_move)\n",
      "                dist += 1\n",
      "                if chisq_stat(curr_table) < threshold_chisq:\n",
      "                ## Significance has flipped!\n",
      "                     break              \n",
      "        # if table is to the right of red line (decreases as r_0 increases)\n",
      "        else:\n",
      "            curr_table = input_table.copy()    ## make a copy of the input table\n",
      "            while 1:\n",
      "                next_move = next_move = np.array((1, 0, 1, 0))\n",
      "                # if r_0 can be increased \n",
      "                if not move_is_legal(curr_table, augment_direction_vector(next_move)):\n",
      "                    break\n",
      "                curr_table += augment_direction_vector(next_move)\n",
      "                dist += 1\n",
      "                if chisq_stat(curr_table) < threshold_chisq:\n",
      "                ## Significance has flipped!\n",
      "                     break      \n",
      "        return dist * sig_direction\n",
      "    return None"
     ],
     "language": "python",
     "metadata": {},
     "outputs": []
    }
   ],
   "metadata": {}
  }
 ]
}