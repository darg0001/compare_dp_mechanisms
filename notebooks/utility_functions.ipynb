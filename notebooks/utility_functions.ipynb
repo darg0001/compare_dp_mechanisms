{
 "metadata": {
  "name": "",
  "signature": "sha256:24c0e4bf1d681fe79a076fe9d831ff42492738ff816eeb0359d9c14d742d8840"
 },
 "nbformat": 3,
 "nbformat_minor": 0,
 "worksheets": [
  {
   "cells": [
    {
     "cell_type": "markdown",
     "metadata": {},
     "source": [
      "Utility functions."
     ]
    },
    {
     "cell_type": "code",
     "collapsed": false,
     "input": [
      "import numpy as np\n"
     ],
     "language": "python",
     "metadata": {},
     "outputs": []
    },
    {
     "cell_type": "code",
     "collapsed": false,
     "input": [
      "def get_chisq_sensitivity(NN_case, NN_control):\n",
      "    \"\"\"sensitivity for the chi-square statistic based on 2x3 genotype tables\"\"\"\n",
      "    NN = NN_case + NN_control  # total number of subjects\n",
      "    CC_max = max(NN_case, NN_control)\n",
      "    CC_min = min(NN_case, NN_control)\n",
      "    sensitivity = 1. * NN**2 / (CC_min * (CC_max + 1))  # sensitivity of chisq\n",
      "    return sensitivity\n",
      "\n"
     ],
     "language": "python",
     "metadata": {},
     "outputs": []
    },
    {
     "cell_type": "code",
     "collapsed": false,
     "input": [
      "def get_allelic_test_sensitivity(NN_case, NN_control):\n",
      "    \"\"\"sensitivity for the chi-square statistic based on 2x2 allelic tables derived from 2x3 genotype tables\"\"\"\n",
      "    def sensitivity_type_1(SS, RR):\n",
      "        NN = SS + RR\n",
      "        return 1.0 * 8 * NN**2 * SS / \\\n",
      "                (RR * (2 * SS + 3) * (2 * SS + 1))\n",
      "    \n",
      "    def sensitivity_type_2(SS, RR):\n",
      "        NN = SS + RR\n",
      "        return 1.0 * 4 * NN**2 * ((2 * RR**2 - 1) * (2 * SS - 1) - 1) / \\\n",
      "                (SS * RR * (2 * RR + 1) * (2 * RR - 1) * (2 * SS + 1))\n",
      "\n",
      "    return np.max([sensitivity_type_1(NN_case, NN_control),\n",
      "                   sensitivity_type_1(NN_control, NN_case),\n",
      "                   sensitivity_type_2(NN_case, NN_control),\n",
      "                   sensitivity_type_2(NN_control, NN_case)])"
     ],
     "language": "python",
     "metadata": {},
     "outputs": []
    },
    {
     "cell_type": "code",
     "collapsed": false,
     "input": [
      "def get_allelic_test_sensitivity(NN_case, NN_control):\n",
      "    \"\"\"sensitivity for the chi-square statistic based on 2x2 allelic tables derived from 2x3 genotype tables\"\"\"\n",
      "    def sensitivity_type_1(SS, RR):\n",
      "        NN = SS + RR\n",
      "        return 1.0 * 8 * NN**2 * SS / \\\n",
      "                (RR * (2 * SS + 3) * (2 * SS + 1))\n",
      "    \n",
      "    def sensitivity_type_2(SS, RR):\n",
      "        NN = SS + RR\n",
      "        return 1.0 * 4 * NN**2 * ((2 * RR**2 - 1) * (2 * SS - 1) - 1) / \\\n",
      "                (SS * RR * (2 * RR + 1) * (2 * RR - 1) * (2 * SS + 1))\n",
      "\n",
      "    return np.max([sensitivity_type_1(NN_case, NN_control),\n",
      "                   sensitivity_type_1(NN_control, NN_case),\n",
      "                   sensitivity_type_2(NN_case, NN_control),\n",
      "                   sensitivity_type_2(NN_control, NN_case)])"
     ],
     "language": "python",
     "metadata": {},
     "outputs": []
    },
    {
     "cell_type": "code",
     "collapsed": false,
     "input": [
      "def check_table_valid(input_table):\n",
      "    \"\"\"Make sure that the margins (row sums and column sums ) are all positive.\n",
      "    Args:\n",
      "        input_table: A 2x3 numpy matrix.\n",
      "    \"\"\"\n",
      "    ## check zero margins\n",
      "    rowsum = np.array(map(np.sum, input_table))\n",
      "    colsum = np.array(map(np.sum, input_table.T))\n",
      "    if np.any(rowsum == 0) or np.any(colsum == 0):\n",
      "        return False\n",
      "    else:\n",
      "        return True"
     ],
     "language": "python",
     "metadata": {},
     "outputs": []
    },
    {
     "cell_type": "code",
     "collapsed": false,
     "input": [
      "def chisq_stat(input_table, chisq_type='allelic'):\n",
      "    \"\"\"Calculate the Pearson's chi-square staitsitc.\n",
      "    Args:\n",
      "        input_table: A 2x3 numpy matrix.\n",
      "\n",
      "    Returns:\n",
      "        A tuple (chisquare_statistics, degree_of_freedom).\n",
      "    \"\"\"\n",
      "    input_table = input_table.astype(float)\n",
      "    if chisq_type == 'allelic':\n",
      "        # collapse genotype table to allelic table\n",
      "        new_input_table = np.identity(2, dtype='float')\n",
      "        new_input_table[0,0] = 2* input_table[0,0] + input_table[0,1]\n",
      "        new_input_table[0,1] = 2* input_table[0,2] + input_table[0,1]\n",
      "        new_input_table[1,0] = 2* input_table[1,0] + input_table[1,1]\n",
      "        new_input_table[1,1] = 2* input_table[1,2] + input_table[1,1]\n",
      "        input_table = new_input_table\n",
      "    rowsum = np.array(map(np.sum, input_table))\n",
      "    colsum = np.array(map(np.sum, input_table.T))\n",
      "    expected = np.outer(rowsum, colsum) / np.sum(rowsum)\n",
      "    # df = (len([1 for rr in rowsum if rr > 0]) - 1) * \\\n",
      "    #     (len([1 for cc in colsum if cc > 0]) - 1)\n",
      "    chisq = np.sum(np.array(input_table[expected > 0] -\n",
      "                            expected[expected > 0]) ** 2 /\n",
      "                   expected[expected > 0])\n",
      "    # return (chisq, df)\n",
      "    return chisq"
     ],
     "language": "python",
     "metadata": {},
     "outputs": []
    }
   ],
   "metadata": {}
  }
 ]
}