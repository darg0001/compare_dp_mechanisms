{
 "metadata": {
  "name": ""
 },
 "nbformat": 3,
 "nbformat_minor": 0,
 "worksheets": [
  {
   "cells": [
    {
     "cell_type": "markdown",
     "metadata": {},
     "source": [
      "Get results using the JS method."
     ]
    },
    {
     "cell_type": "code",
     "collapsed": false,
     "input": [
      "import sys, os, time\n",
      "from collections import deque, Counter\n",
      "import argparse\n",
      "import imp\n",
      "import numpy as np"
     ],
     "language": "python",
     "metadata": {},
     "outputs": []
    },
    {
     "cell_type": "code",
     "collapsed": false,
     "input": [
      "SCRIPT_DIR = os.path.dirname(os.path.realpath(__file__))"
     ],
     "language": "python",
     "metadata": {},
     "outputs": []
    },
    {
     "cell_type": "markdown",
     "metadata": {},
     "source": [
      "Utility functions."
     ]
    },
    {
     "cell_type": "code",
     "collapsed": false,
     "input": [
      "def import_anywhere(module_name, paths):\n",
      "    \"\"\"import methods from any folder\"\"\"\n",
      "    try:\n",
      "        f, filename, desc = imp.find_module(module_name, paths)\n",
      "        return imp.load_module(module_name, f, filename, desc)\n",
      "    finally:\n",
      "        # Since we may exit via an exception, close fp explicitly.\n",
      "        if f:\n",
      "            f.close()"
     ],
     "language": "python",
     "metadata": {},
     "outputs": []
    },
    {
     "cell_type": "markdown",
     "metadata": {},
     "source": [
      "Parse command line arguments."
     ]
    },
    {
     "cell_type": "code",
     "collapsed": false,
     "input": [
      "parser = argparse.ArgumentParser(description=\"Get results based on the JS method.\")\n",
      "parser.add_argument(\"k\", metavar=\"NUM_SNP\", help=\"number of SNPs to output\", type=int)\n",
      "parser.add_argument(\"e\", metavar=\"EPSILON\", help=\"privacy budget epsilon\", type=float)\n",
      "parser.add_argument(\"infile\", help=\"input file of JS distances\")\n",
      "parser.add_argument(\"-s\", help=\"sensitivity of the scoring function\", default=1, type=int)\n",
      "args = parser.parse_args()\n",
      "\n",
      "if not os.path.isfile(args.infile):\n",
      "    sys.exit(\"The follwoing file does not exist: {}\".format(args.infile))"
     ],
     "language": "python",
     "metadata": {},
     "outputs": []
    },
    {
     "cell_type": "markdown",
     "metadata": {},
     "source": [
      "Setup data."
     ]
    },
    {
     "cell_type": "code",
     "collapsed": false,
     "input": [
      "js_dist_tuples = []\n",
      "with open(args.infile, 'r') as infile:\n",
      "    # skip header line\n",
      "    garbage = infile.readline()\n",
      "    for line in infile:\n",
      "        name, distance = line.strip().split()\n",
      "        js_dist_tuples.append((name, int(distance)))\n",
      "\n",
      "indexed_snp_name_dict = dict(enumerate([name for name, dd in js_dist_tuples]))\n",
      "snp_scores =  np.array([-dd if dd >= 0 else -dd - 1 for name, dd in js_dist_tuples])"
     ],
     "language": "python",
     "metadata": {},
     "outputs": []
    },
    {
     "cell_type": "markdown",
     "metadata": {},
     "source": [
      "Perform JS algorithm."
     ]
    },
    {
     "cell_type": "code",
     "collapsed": false,
     "input": [
      "loc_sig = import_anywhere('loc_sig', [SCRIPT_DIR])\n",
      "from loc_sig import loc_sig"
     ],
     "language": "python",
     "metadata": {},
     "outputs": []
    },
    {
     "cell_type": "code",
     "collapsed": false,
     "input": [
      "results_indices = loc_sig(args.e, args.k, args.s, snp_scores)\n",
      "results_names = map(indexed_snp_name_dict.get, results_indices)"
     ],
     "language": "python",
     "metadata": {},
     "outputs": []
    },
    {
     "cell_type": "code",
     "collapsed": false,
     "input": [
      "for nn in results_names:\n",
      "    print nn"
     ],
     "language": "python",
     "metadata": {},
     "outputs": []
    }
   ],
   "metadata": {}
  }
 ]
}