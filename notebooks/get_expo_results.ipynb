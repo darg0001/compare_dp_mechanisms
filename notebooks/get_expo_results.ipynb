{
 "metadata": {
  "name": "",
  "signature": "sha256:6bc7aec24e99c74c7b565693bad7087981ed1c9d6d357c5dca9810d6e197c782"
 },
 "nbformat": 3,
 "nbformat_minor": 0,
 "worksheets": [
  {
   "cells": [
    {
     "cell_type": "markdown",
     "metadata": {},
     "source": [
      "Get results using the exponential mechanism."
     ]
    },
    {
     "cell_type": "code",
     "collapsed": false,
     "input": [
      "import sys, os, time\n",
      "from collections import deque\n",
      "import argparse\n",
      "import numpy as np\n",
      "import imp"
     ],
     "language": "python",
     "metadata": {},
     "outputs": []
    },
    {
     "cell_type": "code",
     "collapsed": false,
     "input": [
      "SCRIPT_DIR = os.path.dirname(os.path.realpath(__file__))"
     ],
     "language": "python",
     "metadata": {},
     "outputs": []
    },
    {
     "cell_type": "markdown",
     "metadata": {},
     "source": [
      "Utility functions."
     ]
    },
    {
     "cell_type": "code",
     "collapsed": false,
     "input": [
      "def import_anywhere(module_name, paths):\n",
      "    \"\"\"import methods from any folder\"\"\"\n",
      "    try:\n",
      "        f, filename, desc = imp.find_module(module_name, paths)\n",
      "        return imp.load_module(module_name, f, filename, desc)\n",
      "    finally:\n",
      "        # Since we may exit via an exception, close fp explicitly.\n",
      "        if f:\n",
      "            f.close()"
     ],
     "language": "python",
     "metadata": {},
     "outputs": []
    },
    {
     "cell_type": "code",
     "collapsed": false,
     "input": [
      "utility_functions = import_anywhere('utility_functions', [SCRIPT_DIR])\n",
      "from utility_functions import get_allelic_test_sensitivity as get_chisq_sensitivity"
     ],
     "language": "python",
     "metadata": {},
     "outputs": []
    },
    {
     "cell_type": "markdown",
     "metadata": {},
     "source": [
      "Parse command line arguments."
     ]
    },
    {
     "cell_type": "code",
     "collapsed": false,
     "input": [
      "parser = argparse.ArgumentParser(description=\"Get results based on the JS method.\")\n",
      "parser.add_argument(\"k\", metavar=\"NUM_SNP\", help=\"number of SNPs to output\", type=int)\n",
      "parser.add_argument(\"e\", metavar=\"EPSILON\", help=\"privacy budget epsilon\", type=float)\n",
      "parser.add_argument(\"n_case\", help=\"number of cases\", type=int)\n",
      "parser.add_argument(\"n_control\", help=\"number of controls\", type=int)\n",
      "parser.add_argument(\"infile\", help=\"input file of chisquare statistics\")\n",
      "parser.add_argument(\"-s\", help=\"sensitivity of the scoring function\", default=1, type=int)\n",
      "args = parser.parse_args()\n",
      "\n",
      "if not os.path.isfile(args.infile):\n",
      "    sys.exit(\"The follwoing file does not exist: {}\".format(args.infile))"
     ],
     "language": "python",
     "metadata": {},
     "outputs": []
    },
    {
     "cell_type": "markdown",
     "metadata": {},
     "source": [
      "Setup data."
     ]
    },
    {
     "cell_type": "code",
     "collapsed": false,
     "input": [
      "name_score_tuples = []\n",
      "with open(args.infile, 'r') as infile:\n",
      "    # skip header line\n",
      "    garbage = infile.readline()\n",
      "    for line in infile:\n",
      "        name, score = line.strip().split()\n",
      "        name_score_tuples.append((name, float(score)))\n",
      "\n",
      "indexed_snp_name_dict = dict(enumerate([name for name, ss in name_score_tuples]))\n",
      "snp_scores =  np.array([ss for name, ss in name_score_tuples])"
     ],
     "language": "python",
     "metadata": {},
     "outputs": []
    },
    {
     "cell_type": "markdown",
     "metadata": {},
     "source": [
      "Perform exponential algorithm."
     ]
    },
    {
     "cell_type": "code",
     "collapsed": false,
     "input": [
      "loc_sig = import_anywhere('loc_sig', [SCRIPT_DIR])\n",
      "from loc_sig import loc_sig"
     ],
     "language": "python",
     "metadata": {},
     "outputs": []
    },
    {
     "cell_type": "code",
     "collapsed": false,
     "input": [
      "sensitivity = get_chisq_sensitivity(args.n_case, args.n_control)\n",
      "results_indices = loc_sig(args.e, args.k, sensitivity, snp_scores)\n",
      "results_names = map(indexed_snp_name_dict.get, results_indices)"
     ],
     "language": "python",
     "metadata": {},
     "outputs": []
    },
    {
     "cell_type": "code",
     "collapsed": false,
     "input": [
      "for nn in results_names:\n",
      "    print nn"
     ],
     "language": "python",
     "metadata": {},
     "outputs": []
    }
   ],
   "metadata": {}
  }
 ]
}